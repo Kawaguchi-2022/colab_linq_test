{
  "nbformat": 4,
  "nbformat_minor": 0,
  "metadata": {
    "colab": {
      "name": "test01.ipynb",
      "provenance": [],
      "authorship_tag": "ABX9TyOpO56j+F3ViQlFrtRBMNNg",
      "include_colab_link": true
    },
    "kernelspec": {
      "name": "python3",
      "display_name": "Python 3"
    },
    "language_info": {
      "name": "python"
    }
  },
  "cells": [
    {
      "cell_type": "markdown",
      "metadata": {
        "id": "view-in-github",
        "colab_type": "text"
      },
      "source": [
        "<a href=\"https://colab.research.google.com/github/Kawaguchi-2022/colab_linq_test/blob/main/test01.ipynb\" target=\"_parent\"><img src=\"https://colab.research.google.com/assets/colab-badge.svg\" alt=\"Open In Colab\"/></a>"
      ]
    },
    {
      "cell_type": "code",
      "execution_count": null,
      "metadata": {
        "colab": {
          "base_uri": "https://localhost:8080/"
        },
        "id": "qkXM2Ug15ZUT",
        "outputId": "df4a8235-9250-4e35-9952-6d77d20c1cd5"
      },
      "outputs": [
        {
          "output_type": "stream",
          "name": "stdout",
          "text": [
            "test!\n"
          ]
        }
      ],
      "source": [
        "# This is test file\n",
        "\n",
        "print('test!')"
      ]
    }
  ]
}